{
 "cells": [
  {
   "cell_type": "code",
   "execution_count": null,
   "id": "ba5e1d80-87dd-4ea6-a709-d07abf720000",
   "metadata": {},
   "outputs": [],
   "source": [
    "import fetch_data\n",
    "import combine_query"
   ]
  },
  {
   "cell_type": "code",
   "execution_count": null,
   "id": "ff04b3b3-b5c9-4c11-922b-19e45748c25a",
   "metadata": {},
   "outputs": [],
   "source": [
    "import matplotlib.pyplot as plt\n",
    "%matplotlib widget"
   ]
  },
  {
   "cell_type": "code",
   "execution_count": null,
   "id": "e9a8bdd3-6256-45c9-93c7-3fa98fe42b52",
   "metadata": {},
   "outputs": [],
   "source": [
    "data = fetch_data.read_csv_data()"
   ]
  },
  {
   "cell_type": "code",
   "execution_count": null,
   "id": "b972d8a4-c80b-413e-b6bb-04f8139df25c",
   "metadata": {},
   "outputs": [],
   "source": [
    "data"
   ]
  },
  {
   "cell_type": "code",
   "execution_count": null,
   "id": "1dc6fdb6-b017-4623-8efb-d4b45372a67a",
   "metadata": {},
   "outputs": [],
   "source": [
    "def ftime(t):\n",
    "    return (t.hour + (t.minute + t.second / 60) / 60)"
   ]
  },
  {
   "cell_type": "code",
   "execution_count": null,
   "id": "897f6fbc-c3aa-47c5-a21d-f3377a50fccd",
   "metadata": {},
   "outputs": [],
   "source": [
    "sample = data[data.time.dt.weekday == 3] # thursday"
   ]
  },
  {
   "cell_type": "code",
   "execution_count": null,
   "id": "38d17447-4e4a-46d0-b536-022ffc051fc2",
   "metadata": {},
   "outputs": [],
   "source": [
    "sample"
   ]
  },
  {
   "cell_type": "code",
   "execution_count": null,
   "id": "5bbf8024-f2db-4251-b203-196e9f253d27",
   "metadata": {},
   "outputs": [],
   "source": [
    "fig, ax = plt.subplots(1, 1)\n",
    "ax.scatter(sample.day_ftime, sample.lower + sample.upper)"
   ]
  },
  {
   "cell_type": "code",
   "execution_count": null,
   "id": "e11d739b-5449-4ff9-b33d-43391844a38e",
   "metadata": {},
   "outputs": [],
   "source": [
    "sample_binned = combine_query.combine_by_week(sample, minute_bins=2)\n",
    "sample_binned"
   ]
  },
  {
   "cell_type": "code",
   "execution_count": null,
   "id": "f9de5c57-8bd6-4b11-9ecc-01e1dcc57585",
   "metadata": {},
   "outputs": [],
   "source": [
    "fig, ax = plt.subplots(1, 1)\n",
    "ax.plot(sample_binned.day_ftime, sample_binned.lower + sample_binned.upper)"
   ]
  },
  {
   "cell_type": "code",
   "execution_count": null,
   "id": "58642989-73a9-4c3e-94be-0060718854ab",
   "metadata": {},
   "outputs": [],
   "source": []
  }
 ],
 "metadata": {
  "kernelspec": {
   "display_name": "Python 3 (ipykernel)",
   "language": "python",
   "name": "python3"
  },
  "language_info": {
   "codemirror_mode": {
    "name": "ipython",
    "version": 3
   },
   "file_extension": ".py",
   "mimetype": "text/x-python",
   "name": "python",
   "nbconvert_exporter": "python",
   "pygments_lexer": "ipython3",
   "version": "3.10.4"
  }
 },
 "nbformat": 4,
 "nbformat_minor": 5
}
