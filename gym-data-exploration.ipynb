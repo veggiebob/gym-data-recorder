{
 "cells": [
  {
   "cell_type": "code",
   "execution_count": null,
   "id": "76aba98d-afdf-43da-b319-6e369619a3e0",
   "metadata": {},
   "outputs": [],
   "source": [
    "import numpy as np\n",
    "import pandas as pd\n",
    "import datetime\n",
    "import matplotlib.pyplot as plt\n",
    "from fetch_data import get_data"
   ]
  },
  {
   "cell_type": "markdown",
   "id": "e2067235-9751-42e9-8b3f-4a95479819ee",
   "metadata": {},
   "source": [
    "### Constants"
   ]
  },
  {
   "cell_type": "code",
   "execution_count": null,
   "id": "7f8dac86-5ca9-45a6-8101-bdf1f3eed170",
   "metadata": {},
   "outputs": [],
   "source": [
    "csv_name = 'output_pd.csv'\n",
    "dayofweek_index = { i: day for i, day in zip(range(7), ['monday', 'tuesday', 'wednesday', 'thursday', 'friday', 'saturday', 'sunday']) }\n",
    "dayofweek_index"
   ]
  },
  {
   "cell_type": "code",
   "execution_count": null,
   "id": "3777ef99-c9ec-40e9-9c68-664113b4c79a",
   "metadata": {},
   "outputs": [],
   "source": [
    "get_data()"
   ]
  },
  {
   "cell_type": "code",
   "execution_count": null,
   "id": "01e4f3d5-92ce-4b03-a451-b1715552bfdb",
   "metadata": {},
   "outputs": [],
   "source": []
  },
  {
   "cell_type": "code",
   "execution_count": null,
   "id": "d2fa95b1-44af-4d6a-a773-b249332799ac",
   "metadata": {},
   "outputs": [],
   "source": [
    "def get_time():\n",
    "    return pd.Timestamp(datetime.datetime.now())"
   ]
  },
  {
   "cell_type": "code",
   "execution_count": null,
   "id": "bfb212b6-148c-4bbb-9c4d-d5b857a129de",
   "metadata": {},
   "outputs": [],
   "source": [
    "def get_row():\n",
    "    lower, upper, aquatic = get_data()\n",
    "    t = get_time()\n",
    "    row = dict(lower=lower,\n",
    "               upper=upper,\n",
    "               aquatic=aquatic,\n",
    "               time=t,\n",
    "               day=t.weekday())\n",
    "    return row\n",
    "\n",
    "def first_time_table_creation():\n",
    "    row = get_row()\n",
    "    df = pd.DataFrame(dict(lower=[row['lower']],\n",
    "                           upper=[row['upper']],\n",
    "                           aquatic=[row['aquatic']],\n",
    "                           time=[row['time']],\n",
    "                           day=[row['day']]))\n",
    "    return df\n",
    "\n",
    "\n",
    "# df = first_time_table_creation()\n",
    "# df.to_csv(csv_name, index=False)"
   ]
  },
  {
   "cell_type": "markdown",
   "id": "c9d1b549-c3d2-4646-9631-778efe45afe0",
   "metadata": {},
   "source": [
    "# New Section bozo"
   ]
  },
  {
   "cell_type": "code",
   "execution_count": null,
   "id": "7d4630cc-5504-4f03-803d-b165c3ff3940",
   "metadata": {},
   "outputs": [],
   "source": [
    "data = pd.read_csv(csv_name, parse_dates=['time'])"
   ]
  },
  {
   "cell_type": "code",
   "execution_count": null,
   "id": "1a6e76b4-021b-41d4-8db3-415985474d3b",
   "metadata": {},
   "outputs": [],
   "source": [
    "data['day'] = data.time.dt.dayofweek"
   ]
  },
  {
   "cell_type": "code",
   "execution_count": null,
   "id": "c5df5ff2-57a0-4914-89fc-99c5d65569f6",
   "metadata": {},
   "outputs": [],
   "source": [
    "data"
   ]
  },
  {
   "cell_type": "code",
   "execution_count": null,
   "id": "0ded4e07-4126-4382-b8d6-088a88f94c98",
   "metadata": {},
   "outputs": [],
   "source": [
    "def read_data():\n",
    "    data = pd.read_csv(csv_name)\n",
    "    data.time = pd.to_datetime(data.time)\n",
    "    return data"
   ]
  },
  {
   "cell_type": "code",
   "execution_count": null,
   "id": "e89d1882-adde-42c0-b957-f0356f792b2e",
   "metadata": {},
   "outputs": [],
   "source": [
    "def add_datapoint(data):\n",
    "    row = get_row()\n",
    "    row['day'] = row['time'].weekday()\n",
    "    data.loc[len(data)] = row\n",
    "    return data"
   ]
  },
  {
   "cell_type": "code",
   "execution_count": null,
   "id": "0eb44263-5944-493c-bcc0-822a9f5b930e",
   "metadata": {},
   "outputs": [],
   "source": [
    "add_datapoint(data)"
   ]
  },
  {
   "cell_type": "code",
   "execution_count": null,
   "id": "6a7d1f31-4929-47fd-839d-6c8f7f34ea58",
   "metadata": {},
   "outputs": [],
   "source": []
  }
 ],
 "metadata": {
  "kernelspec": {
   "display_name": "Python 3 (ipykernel)",
   "language": "python",
   "name": "python3"
  },
  "language_info": {
   "codemirror_mode": {
    "name": "ipython",
    "version": 3
   },
   "file_extension": ".py",
   "mimetype": "text/x-python",
   "name": "python",
   "nbconvert_exporter": "python",
   "pygments_lexer": "ipython3",
   "version": "3.10.4"
  }
 },
 "nbformat": 4,
 "nbformat_minor": 5
}
